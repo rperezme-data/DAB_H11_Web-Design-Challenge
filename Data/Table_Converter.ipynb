{
 "cells": [
  {
   "cell_type": "markdown",
   "metadata": {},
   "source": [
    "## Import CSV table into DataFrame & Export to HTML table"
   ]
  },
  {
   "cell_type": "code",
   "execution_count": 1,
   "metadata": {
    "scrolled": true
   },
   "outputs": [],
   "source": [
    "## Dependencies\n",
    "import pandas as pd"
   ]
  },
  {
   "cell_type": "code",
   "execution_count": 2,
   "metadata": {},
   "outputs": [
    {
     "output_type": "execute_result",
     "data": {
      "text/plain": [
       "        City      Lat       Lng  Max Temp  Humidity  Cloudiness  Wind Speed  \\\n",
       "0  Saskylakh  71.9167  114.0833     34.02        99         100        7.47   \n",
       "1       Lebu -37.6167  -73.6500     55.09        94         100        8.59   \n",
       "2      Polis  35.0367   32.4264     66.20        27           0        5.75   \n",
       "3  Mahébourg -20.4081   57.7000     77.00        83          75       14.97   \n",
       "4  Princeton  25.5384  -80.4089     78.80        83           1        3.44   \n",
       "\n",
       "  Country        Date  \n",
       "0      RU  1619754043  \n",
       "1      CL  1619754043  \n",
       "2      CY  1619754043  \n",
       "3      MU  1619754044  \n",
       "4      US  1619754044  "
      ],
      "text/html": "<div>\n<style scoped>\n    .dataframe tbody tr th:only-of-type {\n        vertical-align: middle;\n    }\n\n    .dataframe tbody tr th {\n        vertical-align: top;\n    }\n\n    .dataframe thead th {\n        text-align: right;\n    }\n</style>\n<table border=\"1\" class=\"dataframe\">\n  <thead>\n    <tr style=\"text-align: right;\">\n      <th></th>\n      <th>City</th>\n      <th>Lat</th>\n      <th>Lng</th>\n      <th>Max Temp</th>\n      <th>Humidity</th>\n      <th>Cloudiness</th>\n      <th>Wind Speed</th>\n      <th>Country</th>\n      <th>Date</th>\n    </tr>\n  </thead>\n  <tbody>\n    <tr>\n      <th>0</th>\n      <td>Saskylakh</td>\n      <td>71.9167</td>\n      <td>114.0833</td>\n      <td>34.02</td>\n      <td>99</td>\n      <td>100</td>\n      <td>7.47</td>\n      <td>RU</td>\n      <td>1619754043</td>\n    </tr>\n    <tr>\n      <th>1</th>\n      <td>Lebu</td>\n      <td>-37.6167</td>\n      <td>-73.6500</td>\n      <td>55.09</td>\n      <td>94</td>\n      <td>100</td>\n      <td>8.59</td>\n      <td>CL</td>\n      <td>1619754043</td>\n    </tr>\n    <tr>\n      <th>2</th>\n      <td>Polis</td>\n      <td>35.0367</td>\n      <td>32.4264</td>\n      <td>66.20</td>\n      <td>27</td>\n      <td>0</td>\n      <td>5.75</td>\n      <td>CY</td>\n      <td>1619754043</td>\n    </tr>\n    <tr>\n      <th>3</th>\n      <td>Mahébourg</td>\n      <td>-20.4081</td>\n      <td>57.7000</td>\n      <td>77.00</td>\n      <td>83</td>\n      <td>75</td>\n      <td>14.97</td>\n      <td>MU</td>\n      <td>1619754044</td>\n    </tr>\n    <tr>\n      <th>4</th>\n      <td>Princeton</td>\n      <td>25.5384</td>\n      <td>-80.4089</td>\n      <td>78.80</td>\n      <td>83</td>\n      <td>1</td>\n      <td>3.44</td>\n      <td>US</td>\n      <td>1619754044</td>\n    </tr>\n  </tbody>\n</table>\n</div>"
     },
     "metadata": {},
     "execution_count": 2
    }
   ],
   "source": [
    "## Import table (CSV) & Store as DataFrame\n",
    "table_df = pd.read_csv(\"Cities.csv\", encoding=\"utf-8\")\n",
    "table_df.head()"
   ]
  },
  {
   "cell_type": "code",
   "execution_count": 3,
   "metadata": {},
   "outputs": [
    {
     "output_type": "execute_result",
     "data": {
      "text/plain": [
       "        City Country      Lat       Lng  Max Temp  Humidity  Cloudiness  \\\n",
       "0  Saskylakh      RU  71.9167  114.0833     34.02        99         100   \n",
       "1       Lebu      CL -37.6167  -73.6500     55.09        94         100   \n",
       "2      Polis      CY  35.0367   32.4264     66.20        27           0   \n",
       "3  Mahébourg      MU -20.4081   57.7000     77.00        83          75   \n",
       "4  Princeton      US  25.5384  -80.4089     78.80        83           1   \n",
       "\n",
       "   Wind Speed        Date  \n",
       "0        7.47  1619754043  \n",
       "1        8.59  1619754043  \n",
       "2        5.75  1619754043  \n",
       "3       14.97  1619754044  \n",
       "4        3.44  1619754044  "
      ],
      "text/html": "<div>\n<style scoped>\n    .dataframe tbody tr th:only-of-type {\n        vertical-align: middle;\n    }\n\n    .dataframe tbody tr th {\n        vertical-align: top;\n    }\n\n    .dataframe thead th {\n        text-align: right;\n    }\n</style>\n<table border=\"1\" class=\"dataframe\">\n  <thead>\n    <tr style=\"text-align: right;\">\n      <th></th>\n      <th>City</th>\n      <th>Country</th>\n      <th>Lat</th>\n      <th>Lng</th>\n      <th>Max Temp</th>\n      <th>Humidity</th>\n      <th>Cloudiness</th>\n      <th>Wind Speed</th>\n      <th>Date</th>\n    </tr>\n  </thead>\n  <tbody>\n    <tr>\n      <th>0</th>\n      <td>Saskylakh</td>\n      <td>RU</td>\n      <td>71.9167</td>\n      <td>114.0833</td>\n      <td>34.02</td>\n      <td>99</td>\n      <td>100</td>\n      <td>7.47</td>\n      <td>1619754043</td>\n    </tr>\n    <tr>\n      <th>1</th>\n      <td>Lebu</td>\n      <td>CL</td>\n      <td>-37.6167</td>\n      <td>-73.6500</td>\n      <td>55.09</td>\n      <td>94</td>\n      <td>100</td>\n      <td>8.59</td>\n      <td>1619754043</td>\n    </tr>\n    <tr>\n      <th>2</th>\n      <td>Polis</td>\n      <td>CY</td>\n      <td>35.0367</td>\n      <td>32.4264</td>\n      <td>66.20</td>\n      <td>27</td>\n      <td>0</td>\n      <td>5.75</td>\n      <td>1619754043</td>\n    </tr>\n    <tr>\n      <th>3</th>\n      <td>Mahébourg</td>\n      <td>MU</td>\n      <td>-20.4081</td>\n      <td>57.7000</td>\n      <td>77.00</td>\n      <td>83</td>\n      <td>75</td>\n      <td>14.97</td>\n      <td>1619754044</td>\n    </tr>\n    <tr>\n      <th>4</th>\n      <td>Princeton</td>\n      <td>US</td>\n      <td>25.5384</td>\n      <td>-80.4089</td>\n      <td>78.80</td>\n      <td>83</td>\n      <td>1</td>\n      <td>3.44</td>\n      <td>1619754044</td>\n    </tr>\n  </tbody>\n</table>\n</div>"
     },
     "metadata": {},
     "execution_count": 3
    }
   ],
   "source": [
    "## Define columns order\n",
    "columns = ['City', 'Country', 'Lat', 'Lng', 'Max Temp', 'Humidity', 'Cloudiness', 'Wind Speed', 'Date']\n",
    "\n",
    "## Set columns order\n",
    "table_df = table_df[columns]\n",
    "table_df.head()"
   ]
  },
  {
   "cell_type": "code",
   "execution_count": 4,
   "metadata": {},
   "outputs": [],
   "source": [
    "## Export table (HTML) from DataFrame\n",
    "table_df.to_html(\"Cities.html\", justify=\"left\", classes=\"table table-responsive table-bordered table-striped\", border=0, encoding=\"utf-8\")"
   ]
  }
 ],
 "metadata": {
  "anaconda-cloud": {},
  "kernel_info": {
   "name": "python3"
  },
  "kernelspec": {
   "name": "python388jvsc74a57bd0bf4fadd7ef9db61a6a76c8e360c0cb80358acff615c587c2ad3d4acee6d57aa3",
   "display_name": "Python 3.8.8 64-bit ('base': conda)"
  },
  "language_info": {
   "codemirror_mode": {
    "name": "ipython",
    "version": 3
   },
   "file_extension": ".py",
   "mimetype": "text/x-python",
   "name": "python",
   "nbconvert_exporter": "python",
   "pygments_lexer": "ipython3",
   "version": "3.8.8"
  },
  "latex_envs": {
   "LaTeX_envs_menu_present": true,
   "autoclose": false,
   "autocomplete": true,
   "bibliofile": "biblio.bib",
   "cite_by": "apalike",
   "current_citInitial": 1,
   "eqLabelWithNumbers": true,
   "eqNumInitial": 1,
   "hotkeys": {
    "equation": "Ctrl-E",
    "itemize": "Ctrl-I"
   },
   "labels_anchors": false,
   "latex_user_defs": false,
   "report_style_numbering": false,
   "user_envs_cfg": false
  },
  "nteract": {
   "version": "0.12.3"
  }
 },
 "nbformat": 4,
 "nbformat_minor": 2
}